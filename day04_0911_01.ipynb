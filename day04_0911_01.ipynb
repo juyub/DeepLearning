{
 "cells": [
  {
   "cell_type": "code",
   "execution_count": 2,
   "id": "23fde630",
   "metadata": {},
   "outputs": [
    {
     "name": "stdout",
     "output_type": "stream",
     "text": [
      "(3, 3)\n",
      "100\n"
     ]
    }
   ],
   "source": [
    "import numpy as np\n",
    "from PIL import Image\n",
    "\n",
    "image= np.array(\n",
    "    [[255,   0, 255],\n",
    "     [120, 200, 100],\n",
    "     [200, 128,  50]]\n",
    ")\n",
    "\n",
    "print(image.shape)\n",
    "print(image[1][2])\n",
    "\n",
    "img = Image.fromarray(image)\n",
    "img.show()\n",
    "# img.save('test.png', 'PNG')"
   ]
  },
  {
   "cell_type": "code",
   "execution_count": 5,
   "id": "170e2ee2",
   "metadata": {},
   "outputs": [
    {
     "name": "stdout",
     "output_type": "stream",
     "text": [
      "(3, 3, 3)\n",
      "[  0   0 255]\n",
      "255\n"
     ]
    }
   ],
   "source": [
    "image= np.array(\n",
    "    [[[255, 255, 255],[  0,   0,   0],[128, 128, 128]],\n",
    "     [[255,   0,   0],[  0, 255,   0],[  0,   0, 255]],\n",
    "     [[255, 255,   0],[255,   0, 255],[  0, 255, 255]]]\n",
    ")\n",
    "\n",
    "print(image.shape)\n",
    "print(image[1][2])\n",
    "print(image[1][2][2])\n",
    "\n",
    "img = Image.fromarray(image.astype(np.uint8))\n",
    "img.show()"
   ]
  },
  {
   "cell_type": "code",
   "execution_count": 12,
   "id": "47e857fe",
   "metadata": {},
   "outputs": [
    {
     "name": "stdout",
     "output_type": "stream",
     "text": [
      "[[[255, 255, 0], [255, 0, 255], [0, 255, 255]], [[255, 0, 0], [0, 255, 0], [0, 0, 255]], [[255, 255, 255], [0, 0, 0], [128, 128, 128]]]\n"
     ]
    },
    {
     "ename": "AttributeError",
     "evalue": "'list' object has no attribute 'astype'",
     "output_type": "error",
     "traceback": [
      "\u001b[1;31m---------------------------------------------------------------------------\u001b[0m",
      "\u001b[1;31mAttributeError\u001b[0m                            Traceback (most recent call last)",
      "Cell \u001b[1;32mIn[12], line 17\u001b[0m\n\u001b[0;32m     11\u001b[0m \u001b[38;5;28mprint\u001b[39m(f_image)\n\u001b[0;32m     13\u001b[0m \u001b[38;5;66;03m# print(f_image.shape)\u001b[39;00m\n\u001b[0;32m     14\u001b[0m \u001b[38;5;66;03m# print(f_image[1][2])\u001b[39;00m\n\u001b[0;32m     15\u001b[0m \u001b[38;5;66;03m# print(f_image[1][2][2])\u001b[39;00m\n\u001b[1;32m---> 17\u001b[0m img \u001b[38;5;241m=\u001b[39m Image\u001b[38;5;241m.\u001b[39mfromarray(\u001b[43mf_image\u001b[49m\u001b[38;5;241;43m.\u001b[39;49m\u001b[43mastype\u001b[49m(np\u001b[38;5;241m.\u001b[39muint8))\n\u001b[0;32m     18\u001b[0m img\u001b[38;5;241m.\u001b[39mshow()\n",
      "\u001b[1;31mAttributeError\u001b[0m: 'list' object has no attribute 'astype'"
     ]
    }
   ],
   "source": [
    "# quiz\n",
    "def u_down(arr):\n",
    "    f_array = []\n",
    "    height = len(arr)\n",
    "    \n",
    "    for i in range(height-1, -1, -1):\n",
    "        f_array.append(arr[i].tolist())\n",
    "    \n",
    "    return f_array\n",
    "\n",
    "f_image = u_down(image)\n",
    "print(f_image)\n",
    "\n",
    "print(f_image.shape)\n",
    "print(f_image[1][2])\n",
    "print(f_image[1][2][2])\n",
    "\n",
    "img = Image.fromarray(f_image.astype(np.uint8))\n",
    "img.show()"
   ]
  },
  {
   "cell_type": "code",
   "execution_count": 11,
   "id": "17b7fe6c",
   "metadata": {},
   "outputs": [
    {
     "data": {
      "text/plain": [
       "array([[255, 255,   0],\n",
       "       [255,   0, 255],\n",
       "       [  0, 255, 255],\n",
       "       [255,   0,   0],\n",
       "       [  0, 255,   0],\n",
       "       [  0,   0, 255],\n",
       "       [255, 255, 255],\n",
       "       [  0,   0,   0],\n",
       "       [128, 128, 128]])"
      ]
     },
     "execution_count": 11,
     "metadata": {},
     "output_type": "execute_result"
    }
   ],
   "source": [
    "newimage = image[2]\n",
    "newimage = np.vstack([newimage, image[1]])\n",
    "newimage\n",
    "newimage = np.vstack([newimage, image[0]])\n",
    "newimage"
   ]
  },
  {
   "cell_type": "code",
   "execution_count": 13,
   "id": "5dc8968f",
   "metadata": {},
   "outputs": [],
   "source": [
    "import numpy as np\n",
    "import cv2"
   ]
  },
  {
   "cell_type": "code",
   "execution_count": 15,
   "id": "cdea645c",
   "metadata": {},
   "outputs": [],
   "source": [
    "img = cv2.imread('checkerboard_patten.png')\n",
    "img = cv2.cvtColor(img, cv2.COLOR_BGR2RGB)"
   ]
  },
  {
   "cell_type": "code",
   "execution_count": null,
   "id": "23a238e4",
   "metadata": {},
   "outputs": [],
   "source": [
    "# 점들의 위치\n",
    "pts1 = np.float32([[100,100], [180,100], [200,200]])\n",
    "pts2 = np.float32([[100,100], [190,120], [220,220]])\n",
    "\n",
    "M = cv2.getAffineTransform(pts1, pts2)\n",
    "dst = cv2.warpAffine(img, M, img.shape[:2])\n",
    "\n",
    "cv2. imshow('Origianl', img)\n",
    "cv2. imshow('Affine', dst)\n",
    "cv2.waitKey(0)\n",
    "cv2.destroyAllWindows()"
   ]
  },
  {
   "cell_type": "code",
   "execution_count": null,
   "id": "d2e8a963",
   "metadata": {},
   "outputs": [],
   "source": []
  }
 ],
 "metadata": {
  "kernelspec": {
   "display_name": "tf210Py310",
   "language": "python",
   "name": "tf210py310"
  },
  "language_info": {
   "codemirror_mode": {
    "name": "ipython",
    "version": 3
   },
   "file_extension": ".py",
   "mimetype": "text/x-python",
   "name": "python",
   "nbconvert_exporter": "python",
   "pygments_lexer": "ipython3",
   "version": "3.10.12"
  }
 },
 "nbformat": 4,
 "nbformat_minor": 5
}
