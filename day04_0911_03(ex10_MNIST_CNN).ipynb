{
 "cells": [
  {
   "cell_type": "code",
   "execution_count": 1,
   "id": "d7cc7fea",
   "metadata": {
    "executionInfo": {
     "elapsed": 666,
     "status": "ok",
     "timestamp": 1689659133905,
     "user": {
      "displayName": "김형오",
      "userId": "12580521154359558487"
     },
     "user_tz": -540
    },
    "id": "d7cc7fea"
   },
   "outputs": [],
   "source": [
    "import tensorflow as tf\n",
    "from tensorflow import keras\n",
    "\n",
    "import numpy as np\n",
    "import matplotlib.pyplot as plt\n",
    "\n",
    "mnist = keras.datasets.mnist\n",
    "# class / image - label\n",
    "(train_images, train_labels), (test_images, test_labels) = mnist.load_data()\n",
    "(x_train, y_train), (x_test, y_test) = (train_images, train_labels), (test_images, test_labels)\n",
    "\n",
    "class_names = ['0','1','2','3','4','5','6','7','8','9']\n",
    "NUM_CLASSES = 10"
   ]
  },
  {
   "cell_type": "code",
   "execution_count": 2,
   "id": "80332e21",
   "metadata": {},
   "outputs": [
    {
     "data": {
      "text/plain": [
       "(60000, 28, 28)"
      ]
     },
     "execution_count": 2,
     "metadata": {},
     "output_type": "execute_result"
    }
   ],
   "source": [
    "x_train.shape"
   ]
  },
  {
   "cell_type": "code",
   "execution_count": 5,
   "id": "d4f03367",
   "metadata": {},
   "outputs": [
    {
     "data": {
      "text/plain": [
       "3"
      ]
     },
     "execution_count": 5,
     "metadata": {},
     "output_type": "execute_result"
    }
   ],
   "source": [
    "y_train.shape\n",
    "y_train[10]"
   ]
  },
  {
   "cell_type": "code",
   "execution_count": 6,
   "id": "dc9d5207",
   "metadata": {
    "colab": {
     "base_uri": "https://localhost:8080/"
    },
    "executionInfo": {
     "elapsed": 666,
     "status": "ok",
     "timestamp": 1689659138216,
     "user": {
      "displayName": "김형오",
      "userId": "12580521154359558487"
     },
     "user_tz": -540
    },
    "id": "dc9d5207",
    "outputId": "fb4032b4-22c0-495c-c171-60614798094a"
   },
   "outputs": [
    {
     "name": "stdout",
     "output_type": "stream",
     "text": [
      "converted y.shape =  (60000, 10)\n"
     ]
    }
   ],
   "source": [
    "from tensorflow.keras.utils import to_categorical\n",
    "\n",
    "# keras에 입력을 넣어주기 위해\n",
    "x_train = x_train.reshape((60000, 28, 28, 1))\n",
    "x_test = x_test.reshape((10000, 28, 28, 1))\n",
    "\n",
    "# 0~1값으로 만들어 주기\n",
    "x_train = x_train/255.\n",
    "x_test = x_test/255.\n",
    "\n",
    "# 출력 노드 설정\n",
    "y_train = to_categorical(y_train, NUM_CLASSES)\n",
    "y_test = to_categorical(y_test, NUM_CLASSES)\n",
    "print(\"converted y.shape = \", y_train.shape)"
   ]
  },
  {
   "cell_type": "code",
   "execution_count": 8,
   "id": "2ab3e30c",
   "metadata": {},
   "outputs": [
    {
     "data": {
      "text/plain": [
       "array([0., 0., 0., 1., 0., 0., 0., 0., 0., 0.], dtype=float32)"
      ]
     },
     "execution_count": 8,
     "metadata": {},
     "output_type": "execute_result"
    }
   ],
   "source": [
    "# y_train[10] 가 3 이었기 때문에\n",
    "# to_categorical를 통해 해당하는 값으로 변환해 줌\n",
    "y_train[10]"
   ]
  },
  {
   "cell_type": "code",
   "execution_count": 9,
   "id": "7e7300c1",
   "metadata": {
    "colab": {
     "base_uri": "https://localhost:8080/",
     "height": 1000
    },
    "executionInfo": {
     "elapsed": 4171,
     "status": "ok",
     "timestamp": 1689659146416,
     "user": {
      "displayName": "김형오",
      "userId": "12580521154359558487"
     },
     "user_tz": -540
    },
    "id": "7e7300c1",
    "outputId": "d5641e2f-d2e3-4832-af0f-58cf8c261de7"
   },
   "outputs": [
    {
     "name": "stdout",
     "output_type": "stream",
     "text": [
      "Model: \"sequential\"\n",
      "_________________________________________________________________\n",
      " Layer (type)                Output Shape              Param #   \n",
      "=================================================================\n",
      " conv2d (Conv2D)             (None, 26, 26, 32)        320       \n",
      "                                                                 \n",
      " max_pooling2d (MaxPooling2D  (None, 13, 13, 32)       0         \n",
      " )                                                               \n",
      "                                                                 \n",
      " conv2d_1 (Conv2D)           (None, 11, 11, 64)        18496     \n",
      "                                                                 \n",
      " max_pooling2d_1 (MaxPooling  (None, 5, 5, 64)         0         \n",
      " 2D)                                                             \n",
      "                                                                 \n",
      " conv2d_2 (Conv2D)           (None, 3, 3, 64)          36928     \n",
      "                                                                 \n",
      " flatten (Flatten)           (None, 576)               0         \n",
      "                                                                 \n",
      " dense (Dense)               (None, 64)                36928     \n",
      "                                                                 \n",
      " dense_1 (Dense)             (None, 10)                650       \n",
      "                                                                 \n",
      "=================================================================\n",
      "Total params: 93,322\n",
      "Trainable params: 93,322\n",
      "Non-trainable params: 0\n",
      "_________________________________________________________________\n"
     ]
    }
   ],
   "source": [
    "model = keras.Sequential([\n",
    "    #  (28*28) -> (3,3)*32\n",
    "    keras.layers.Conv2D(32, (3,3), activation='relu', input_shape=(28,28,1)),\n",
    "    # maxpooling\n",
    "    keras.layers.MaxPooling2D((2,2)),\n",
    "    # Layer3\n",
    "    keras.layers.Conv2D(64, (3,3), activation='relu'),\n",
    "    # Layer4\n",
    "    keras.layers.MaxPooling2D((2,2)),\n",
    "    # Layer5\n",
    "    keras.layers.Conv2D(64, (3,3), activation='relu'),\n",
    "    # Layer6\n",
    "    keras.layers.Flatten(),\n",
    "    # Layer7\n",
    "    keras.layers.Dense(64, activation='relu'),\n",
    "    # Layer8\n",
    "    keras.layers.Dense(10, activation='softmax')\n",
    "])\n",
    "\n",
    "model.summary()\n",
    "\n",
    "# import os\n",
    "# os.environ[\"PATH\"] += os.pathsep + 'C:/Program Files/Graphviz/bin'\n",
    "# from keras.utils import plot_model\n",
    "# plot_model(model, to_file='model_plot.png', show_shapes=True, show_layer_names=True)"
   ]
  },
  {
   "cell_type": "code",
   "execution_count": 10,
   "id": "f61fea34",
   "metadata": {
    "colab": {
     "base_uri": "https://localhost:8080/"
    },
    "executionInfo": {
     "elapsed": 506,
     "status": "ok",
     "timestamp": 1689659159657,
     "user": {
      "displayName": "김형오",
      "userId": "12580521154359558487"
     },
     "user_tz": -540
    },
    "id": "f61fea34",
    "outputId": "a8b1605f-62c1-4f04-f08c-a3c3d8b6d36d"
   },
   "outputs": [
    {
     "name": "stdout",
     "output_type": "stream",
     "text": [
      "(3, 3, 1, 32) (32,)\n",
      "[[ 0.08096144 -0.09698696 -0.12222334]\n",
      " [-0.11453549  0.13807239  0.09415726]\n",
      " [ 0.0907236  -0.03067581 -0.0368208 ]]\n"
     ]
    }
   ],
   "source": [
    "conv2d_1 = model.layers[0]\n",
    "weights = conv2d_1.get_weights()\n",
    "w = weights[0]\n",
    "b = weights[1]\n",
    "print(w.shape, b.shape)\n",
    "filter_id = 0\n",
    "kernel = w[:,:,:,filter_id:filter_id+1]\n",
    "kernel = kernel.reshape(3,3)\n",
    "print(kernel)"
   ]
  },
  {
   "cell_type": "code",
   "execution_count": 12,
   "id": "507ef0db",
   "metadata": {
    "colab": {
     "base_uri": "https://localhost:8080/"
    },
    "executionInfo": {
     "elapsed": 143822,
     "status": "ok",
     "timestamp": 1689659311660,
     "user": {
      "displayName": "김형오",
      "userId": "12580521154359558487"
     },
     "user_tz": -540
    },
    "id": "507ef0db",
    "outputId": "16d46438-41fb-4b08-cf13-702c5d59ecde"
   },
   "outputs": [
    {
     "name": "stdout",
     "output_type": "stream",
     "text": [
      "Epoch 1/100\n",
      "1875/1875 [==============================] - 6s 3ms/step - loss: 0.0325 - accuracy: 0.9898\n",
      "Epoch 2/100\n",
      "1875/1875 [==============================] - 5s 3ms/step - loss: 0.0302 - accuracy: 0.9908\n",
      "Epoch 3/100\n",
      "1875/1875 [==============================] - 5s 3ms/step - loss: 0.0281 - accuracy: 0.9914\n",
      "Epoch 4/100\n",
      "1875/1875 [==============================] - 5s 3ms/step - loss: 0.0265 - accuracy: 0.9917\n",
      "Epoch 5/100\n",
      "1875/1875 [==============================] - 5s 3ms/step - loss: 0.0241 - accuracy: 0.9925\n",
      "Epoch 6/100\n",
      "1875/1875 [==============================] - 5s 3ms/step - loss: 0.0223 - accuracy: 0.9932\n",
      "Epoch 7/100\n",
      "1875/1875 [==============================] - 5s 3ms/step - loss: 0.0211 - accuracy: 0.9936\n",
      "Epoch 8/100\n",
      "1875/1875 [==============================] - 5s 3ms/step - loss: 0.0195 - accuracy: 0.9937\n",
      "Epoch 9/100\n",
      "1875/1875 [==============================] - 5s 3ms/step - loss: 0.0186 - accuracy: 0.9938\n",
      "Epoch 10/100\n",
      "1875/1875 [==============================] - 5s 3ms/step - loss: 0.0177 - accuracy: 0.9945\n",
      "Epoch 11/100\n",
      "1875/1875 [==============================] - 5s 3ms/step - loss: 0.0161 - accuracy: 0.9952\n",
      "Epoch 12/100\n",
      "1875/1875 [==============================] - 5s 3ms/step - loss: 0.0150 - accuracy: 0.9954\n",
      "Epoch 13/100\n",
      "1875/1875 [==============================] - 5s 3ms/step - loss: 0.0142 - accuracy: 0.9959\n",
      "Epoch 14/100\n",
      "1875/1875 [==============================] - 5s 3ms/step - loss: 0.0136 - accuracy: 0.9956\n",
      "Epoch 15/100\n",
      "1875/1875 [==============================] - 5s 3ms/step - loss: 0.0124 - accuracy: 0.9965\n",
      "Epoch 16/100\n",
      "1875/1875 [==============================] - 5s 3ms/step - loss: 0.0111 - accuracy: 0.9968\n",
      "Epoch 17/100\n",
      "1875/1875 [==============================] - 5s 3ms/step - loss: 0.0107 - accuracy: 0.9968\n",
      "Epoch 18/100\n",
      "1875/1875 [==============================] - 5s 3ms/step - loss: 0.0097 - accuracy: 0.9973\n",
      "Epoch 19/100\n",
      "1875/1875 [==============================] - 5s 3ms/step - loss: 0.0092 - accuracy: 0.9974\n",
      "Epoch 20/100\n",
      "1875/1875 [==============================] - 5s 3ms/step - loss: 0.0087 - accuracy: 0.9976\n",
      "Epoch 21/100\n",
      "1875/1875 [==============================] - 5s 3ms/step - loss: 0.0085 - accuracy: 0.9975\n",
      "Epoch 22/100\n",
      "1875/1875 [==============================] - 5s 3ms/step - loss: 0.0075 - accuracy: 0.9980\n",
      "Epoch 23/100\n",
      "1875/1875 [==============================] - 5s 3ms/step - loss: 0.0072 - accuracy: 0.9979\n",
      "Epoch 24/100\n",
      "1875/1875 [==============================] - 5s 3ms/step - loss: 0.0063 - accuracy: 0.9984\n",
      "Epoch 25/100\n",
      "1875/1875 [==============================] - 5s 3ms/step - loss: 0.0062 - accuracy: 0.9984\n",
      "Epoch 26/100\n",
      "1875/1875 [==============================] - 5s 3ms/step - loss: 0.0057 - accuracy: 0.9986\n",
      "Epoch 27/100\n",
      "1875/1875 [==============================] - 5s 3ms/step - loss: 0.0052 - accuracy: 0.9987\n",
      "Epoch 28/100\n",
      "1875/1875 [==============================] - 5s 3ms/step - loss: 0.0045 - accuracy: 0.9989\n",
      "Epoch 29/100\n",
      "1875/1875 [==============================] - 5s 3ms/step - loss: 0.0046 - accuracy: 0.9988\n",
      "Epoch 30/100\n",
      "1875/1875 [==============================] - 5s 3ms/step - loss: 0.0044 - accuracy: 0.9988\n",
      "Epoch 31/100\n",
      "1875/1875 [==============================] - 5s 3ms/step - loss: 0.0039 - accuracy: 0.9990\n",
      "Epoch 32/100\n",
      "1875/1875 [==============================] - 5s 3ms/step - loss: 0.0031 - accuracy: 0.9994\n",
      "Epoch 33/100\n",
      "1875/1875 [==============================] - 5s 3ms/step - loss: 0.0032 - accuracy: 0.9992\n",
      "Epoch 34/100\n",
      "1875/1875 [==============================] - 5s 3ms/step - loss: 0.0032 - accuracy: 0.9992\n",
      "Epoch 35/100\n",
      "1875/1875 [==============================] - 5s 3ms/step - loss: 0.0028 - accuracy: 0.9994\n",
      "Epoch 36/100\n",
      "1875/1875 [==============================] - 5s 3ms/step - loss: 0.0023 - accuracy: 0.9996\n",
      "Epoch 37/100\n",
      "1875/1875 [==============================] - 5s 3ms/step - loss: 0.0023 - accuracy: 0.9995\n",
      "Epoch 38/100\n",
      "1875/1875 [==============================] - 5s 3ms/step - loss: 0.0022 - accuracy: 0.9996\n",
      "Epoch 39/100\n",
      "1875/1875 [==============================] - 5s 3ms/step - loss: 0.0020 - accuracy: 0.9995\n",
      "Epoch 40/100\n",
      "1875/1875 [==============================] - 5s 3ms/step - loss: 0.0020 - accuracy: 0.9996\n",
      "Epoch 41/100\n",
      "1875/1875 [==============================] - 5s 3ms/step - loss: 0.0014 - accuracy: 0.9998\n",
      "Epoch 42/100\n",
      "1875/1875 [==============================] - 5s 3ms/step - loss: 0.0013 - accuracy: 0.9998\n",
      "Epoch 43/100\n",
      "1875/1875 [==============================] - 5s 3ms/step - loss: 0.0013 - accuracy: 0.9998\n",
      "Epoch 44/100\n",
      "1875/1875 [==============================] - 5s 3ms/step - loss: 0.0010 - accuracy: 0.9999\n",
      "Epoch 45/100\n",
      "1875/1875 [==============================] - 5s 3ms/step - loss: 0.0010 - accuracy: 0.9998\n",
      "Epoch 46/100\n",
      "1875/1875 [==============================] - 5s 3ms/step - loss: 8.8307e-04 - accuracy: 0.9999\n",
      "Epoch 47/100\n",
      "1875/1875 [==============================] - 5s 3ms/step - loss: 8.5436e-04 - accuracy: 0.9999\n",
      "Epoch 48/100\n",
      "1875/1875 [==============================] - 5s 3ms/step - loss: 9.2243e-04 - accuracy: 0.9998\n",
      "Epoch 49/100\n",
      "1875/1875 [==============================] - 5s 3ms/step - loss: 8.0378e-04 - accuracy: 0.9999\n",
      "Epoch 50/100\n",
      "1875/1875 [==============================] - 5s 3ms/step - loss: 6.8969e-04 - accuracy: 1.0000\n",
      "Epoch 51/100\n",
      "1875/1875 [==============================] - 5s 3ms/step - loss: 0.0010 - accuracy: 0.9998\n",
      "Epoch 52/100\n",
      "1875/1875 [==============================] - 5s 3ms/step - loss: 8.2557e-04 - accuracy: 0.9999\n",
      "Epoch 53/100\n",
      "1875/1875 [==============================] - 5s 3ms/step - loss: 5.7222e-04 - accuracy: 1.0000\n",
      "Epoch 54/100\n",
      "1875/1875 [==============================] - 5s 3ms/step - loss: 5.8396e-04 - accuracy: 0.9999\n",
      "Epoch 55/100\n",
      "1875/1875 [==============================] - 6s 3ms/step - loss: 5.0141e-04 - accuracy: 1.0000\n",
      "Epoch 56/100\n",
      "1875/1875 [==============================] - 5s 3ms/step - loss: 6.6282e-04 - accuracy: 0.9999\n",
      "Epoch 57/100\n",
      "1875/1875 [==============================] - 5s 3ms/step - loss: 5.6071e-04 - accuracy: 0.9999\n",
      "Epoch 58/100\n",
      "1875/1875 [==============================] - 5s 3ms/step - loss: 6.5764e-04 - accuracy: 0.9999\n",
      "Epoch 59/100\n",
      "1875/1875 [==============================] - 5s 3ms/step - loss: 4.7289e-04 - accuracy: 1.0000\n",
      "Epoch 60/100\n",
      "1875/1875 [==============================] - 5s 3ms/step - loss: 4.0566e-04 - accuracy: 1.0000\n",
      "Epoch 61/100\n",
      "1875/1875 [==============================] - 5s 3ms/step - loss: 4.1433e-04 - accuracy: 1.0000\n",
      "Epoch 62/100\n",
      "1875/1875 [==============================] - 5s 3ms/step - loss: 3.7522e-04 - accuracy: 1.0000\n",
      "Epoch 63/100\n",
      "1875/1875 [==============================] - 5s 3ms/step - loss: 3.6284e-04 - accuracy: 1.0000\n",
      "Epoch 64/100\n",
      "1875/1875 [==============================] - 5s 3ms/step - loss: 3.6272e-04 - accuracy: 1.0000\n",
      "Epoch 65/100\n",
      "1875/1875 [==============================] - 5s 3ms/step - loss: 3.1918e-04 - accuracy: 1.0000\n",
      "Epoch 66/100\n",
      "1875/1875 [==============================] - 5s 3ms/step - loss: 3.2840e-04 - accuracy: 1.0000\n",
      "Epoch 67/100\n",
      "1875/1875 [==============================] - 5s 3ms/step - loss: 3.1202e-04 - accuracy: 1.0000\n",
      "Epoch 68/100\n",
      "1875/1875 [==============================] - 5s 3ms/step - loss: 2.7394e-04 - accuracy: 1.0000\n",
      "Epoch 69/100\n",
      "1875/1875 [==============================] - 5s 3ms/step - loss: 2.9860e-04 - accuracy: 1.0000\n",
      "Epoch 70/100\n",
      "1875/1875 [==============================] - 5s 3ms/step - loss: 2.8528e-04 - accuracy: 1.0000\n",
      "Epoch 71/100\n",
      "1875/1875 [==============================] - 5s 3ms/step - loss: 2.7386e-04 - accuracy: 1.0000\n",
      "Epoch 72/100\n",
      "1875/1875 [==============================] - 5s 3ms/step - loss: 2.6477e-04 - accuracy: 1.0000\n",
      "Epoch 73/100\n",
      "1875/1875 [==============================] - 5s 3ms/step - loss: 2.6460e-04 - accuracy: 1.0000\n",
      "Epoch 74/100\n",
      "1875/1875 [==============================] - 5s 3ms/step - loss: 2.4291e-04 - accuracy: 1.0000\n",
      "Epoch 75/100\n",
      "1875/1875 [==============================] - 5s 3ms/step - loss: 2.4237e-04 - accuracy: 1.0000\n",
      "Epoch 76/100\n",
      "1875/1875 [==============================] - 5s 3ms/step - loss: 2.3140e-04 - accuracy: 1.0000\n",
      "Epoch 77/100\n",
      "1875/1875 [==============================] - 5s 3ms/step - loss: 2.1804e-04 - accuracy: 1.0000\n",
      "Epoch 78/100\n"
     ]
    },
    {
     "name": "stdout",
     "output_type": "stream",
     "text": [
      "1875/1875 [==============================] - 5s 3ms/step - loss: 2.2113e-04 - accuracy: 1.0000\n",
      "Epoch 79/100\n",
      "1875/1875 [==============================] - 5s 3ms/step - loss: 2.1042e-04 - accuracy: 1.0000\n",
      "Epoch 80/100\n",
      "1875/1875 [==============================] - 5s 3ms/step - loss: 2.0041e-04 - accuracy: 1.0000\n",
      "Epoch 81/100\n",
      "1875/1875 [==============================] - 5s 3ms/step - loss: 2.0353e-04 - accuracy: 1.0000\n",
      "Epoch 82/100\n",
      "1875/1875 [==============================] - 5s 3ms/step - loss: 1.9697e-04 - accuracy: 1.0000\n",
      "Epoch 83/100\n",
      "1875/1875 [==============================] - 5s 3ms/step - loss: 1.8743e-04 - accuracy: 1.0000\n",
      "Epoch 84/100\n",
      "1875/1875 [==============================] - 5s 3ms/step - loss: 1.9080e-04 - accuracy: 1.0000\n",
      "Epoch 85/100\n",
      "1875/1875 [==============================] - 5s 3ms/step - loss: 1.8347e-04 - accuracy: 1.0000\n",
      "Epoch 86/100\n",
      "1875/1875 [==============================] - 5s 3ms/step - loss: 1.7745e-04 - accuracy: 1.0000\n",
      "Epoch 87/100\n",
      "1875/1875 [==============================] - 5s 3ms/step - loss: 1.7785e-04 - accuracy: 1.0000\n",
      "Epoch 88/100\n",
      "1875/1875 [==============================] - 5s 3ms/step - loss: 1.7049e-04 - accuracy: 1.0000\n",
      "Epoch 89/100\n",
      "1875/1875 [==============================] - 5s 3ms/step - loss: 1.6765e-04 - accuracy: 1.0000\n",
      "Epoch 90/100\n",
      "1875/1875 [==============================] - 5s 3ms/step - loss: 1.6648e-04 - accuracy: 1.0000\n",
      "Epoch 91/100\n",
      "1875/1875 [==============================] - 5s 3ms/step - loss: 1.6319e-04 - accuracy: 1.0000\n",
      "Epoch 92/100\n",
      "1875/1875 [==============================] - 5s 3ms/step - loss: 1.6166e-04 - accuracy: 1.0000\n",
      "Epoch 93/100\n",
      "1875/1875 [==============================] - 5s 3ms/step - loss: 1.5499e-04 - accuracy: 1.0000\n",
      "Epoch 94/100\n",
      "1875/1875 [==============================] - 5s 3ms/step - loss: 1.5241e-04 - accuracy: 1.0000\n",
      "Epoch 95/100\n",
      "1875/1875 [==============================] - 5s 3ms/step - loss: 1.4876e-04 - accuracy: 1.0000\n",
      "Epoch 96/100\n",
      "1875/1875 [==============================] - 5s 3ms/step - loss: 1.4273e-04 - accuracy: 1.0000\n",
      "Epoch 97/100\n",
      "1875/1875 [==============================] - 5s 3ms/step - loss: 1.4127e-04 - accuracy: 1.0000\n",
      "Epoch 98/100\n",
      "1875/1875 [==============================] - 5s 3ms/step - loss: 1.3808e-04 - accuracy: 1.0000\n",
      "Epoch 99/100\n",
      "1875/1875 [==============================] - 5s 3ms/step - loss: 1.3938e-04 - accuracy: 1.0000\n",
      "Epoch 100/100\n",
      "1875/1875 [==============================] - 5s 3ms/step - loss: 1.3532e-04 - accuracy: 1.0000\n"
     ]
    }
   ],
   "source": [
    "# 학습\n",
    "# gradient descent\n",
    "model.compile(optimizer='sgd',\n",
    "             loss='categorical_crossentropy',\n",
    "             metrics=['accuracy'])\n",
    "history = model.fit(x_train, y_train, epochs=100)\n",
    "\n",
    "# loss: 1.3532e-04 = 0.00013532"
   ]
  },
  {
   "cell_type": "code",
   "execution_count": 15,
   "id": "44700999",
   "metadata": {
    "colab": {
     "base_uri": "https://localhost:8080/",
     "height": 472
    },
    "executionInfo": {
     "elapsed": 8,
     "status": "ok",
     "timestamp": 1689659311661,
     "user": {
      "displayName": "김형오",
      "userId": "12580521154359558487"
     },
     "user_tz": -540
    },
    "id": "44700999",
    "outputId": "68840780-69c8-40f2-b9de-8af2a069d50a"
   },
   "outputs": [
    {
     "data": {
      "image/png": "[encoded data removed]",
      "text/plain": [
       "<Figure size 640x480 with 1 Axes>"
      ]
     },
     "metadata": {},
     "output_type": "display_data"
    }
   ],
   "source": [
    "plt.plot(history.history['accuracy'])\n",
    "plt.plot(history.history['loss'])\n",
    "plt.title('train history')\n",
    "plt.ylabel('accuracy')\n",
    "plt.xlabel('epoch')\n",
    "# plt.legend(['accuracy', 'loss'], loc='upper left')\n",
    "plt.legend(['accuracy', 'loss'], loc=5)\n",
    "plt.show()"
   ]
  },
  {
   "cell_type": "code",
   "execution_count": 16,
   "id": "285c6cbd",
   "metadata": {
    "colab": {
     "base_uri": "https://localhost:8080/"
    },
    "executionInfo": {
     "elapsed": 1911,
     "status": "ok",
     "timestamp": 1689659320832,
     "user": {
      "displayName": "김형오",
      "userId": "12580521154359558487"
     },
     "user_tz": -540
    },
    "id": "285c6cbd",
    "outputId": "48cb450b-eef3-4b28-c15f-73e58d7061d4"
   },
   "outputs": [
    {
     "name": "stdout",
     "output_type": "stream",
     "text": [
      "313/313 [==============================] - 1s 3ms/step - loss: 0.0411 - accuracy: 0.9909\n"
     ]
    }
   ],
   "source": [
    "loss, accuracy = model.evaluate(x_test, y_test)"
   ]
  },
  {
   "cell_type": "code",
   "execution_count": 17,
   "id": "mn0Wf8OdwP7j",
   "metadata": {
    "colab": {
     "base_uri": "https://localhost:8080/"
    },
    "executionInfo": {
     "elapsed": 493,
     "status": "ok",
     "timestamp": 1689659329447,
     "user": {
      "displayName": "김형오",
      "userId": "12580521154359558487"
     },
     "user_tz": -540
    },
    "id": "mn0Wf8OdwP7j",
    "outputId": "5ab4bcbe-8362-4251-f8fa-1fed2d642c49"
   },
   "outputs": [
    {
     "name": "stdout",
     "output_type": "stream",
     "text": [
      "1/1 [==============================] - 0s 284ms/step\n",
      "[6.2601349e-19 8.9028965e-15 1.7405478e-25 1.3536270e-04 6.1925871e-26\n",
      " 9.9986458e-01 5.6048439e-22 4.9740418e-19 1.9798839e-16 6.0193803e-16]\n",
      "0.99999994\n"
     ]
    }
   ],
   "source": [
    "preds = model.predict(x_train[0:1])\n",
    "print(preds[0])\n",
    "print(preds[0].sum())"
   ]
  },
  {
   "cell_type": "code",
   "execution_count": 18,
   "id": "b36fb11e",
   "metadata": {},
   "outputs": [
    {
     "data": {
      "text/plain": [
       "array([0., 0., 0., 0., 0., 1., 0., 0., 0., 0.], dtype=float32)"
      ]
     },
     "execution_count": 18,
     "metadata": {},
     "output_type": "execute_result"
    }
   ],
   "source": [
    "y_train[0]"
   ]
  },
  {
   "cell_type": "code",
   "execution_count": null,
   "id": "wgE36GBbwe9Y",
   "metadata": {
    "colab": {
     "base_uri": "https://localhost:8080/",
     "height": 1000
    },
    "executionInfo": {
     "elapsed": 84667,
     "status": "ok",
     "timestamp": 1687735585909,
     "user": {
      "displayName": "김형오",
      "userId": "12580521154359558487"
     },
     "user_tz": -540
    },
    "id": "wgE36GBbwe9Y",
    "outputId": "cd45bd59-f1cd-41bc-ec86-c4ff64c62750"
   },
   "outputs": [],
   "source": [
    "modelfc = keras.Sequential([\n",
    "    keras.layers.Flatten(input_shape=(28,28,1)),\n",
    "    keras.layers.Dense(128, activation='relu'),\n",
    "    keras.layers.Dense(10, activation='softmax')\n",
    "])\n",
    "\n",
    "modelfc.summary()\n",
    "modelfc.compile(optimizer = 'sgd',\n",
    "                loss='categorical_crossentropy',\n",
    "                metrics=['accuracy'])\n",
    "history = modelfc.fit(x_train, y_train, epochs=10)\n",
    "\n",
    "plt.plot(history.history['accuracy'])\n",
    "plt.plot(history.history['loss'])\n",
    "plt.title('train history')\n",
    "plt.ylabel('accuracy')\n",
    "plt.xlabel('epoch')\n",
    "plt.legend(['accuracy', 'loss'], loc='upper left')\n",
    "plt.show()\n",
    "\n",
    "loss, accuracy = modelfc.evaluate(x_test, y_test)"
   ]
  },
  {
   "cell_type": "code",
   "execution_count": null,
   "id": "CqbHr7LFyALZ",
   "metadata": {
    "colab": {
     "base_uri": "https://localhost:8080/",
     "height": 540
    },
    "executionInfo": {
     "elapsed": 771,
     "status": "ok",
     "timestamp": 1687735626699,
     "user": {
      "displayName": "김형오",
      "userId": "12580521154359558487"
     },
     "user_tz": -540
    },
    "id": "CqbHr7LFyALZ",
    "outputId": "d39c43f3-4e67-42f0-9a95-a2336e67d9ae"
   },
   "outputs": [],
   "source": [
    "from tensorflow.keras import backend as K\n",
    "\n",
    "inp = model.input\n",
    "outputs = [layer.output for layer in model.layers]\n",
    "functors = [K.function([inp, keras.Input(shape=())], [out]) for out in outputs]\n",
    "\n",
    "layer_id = 0\n",
    "filter_id = 0\n",
    "layerfn = functors[layer_id]\n",
    "learning_phase = 0\n",
    "out = layerfn([x_train[0:2], learning_phase])\n",
    "\n",
    "print('out[0].shape =', out[0].shape)\n",
    "result = out[0][0][:,:,filter_id:filter_id+1]\n",
    "\n",
    "print('model result shape (with channel) = ', result.shape)\n",
    "\n",
    "result_as_img = result.reshape((result.shape[0], result.shape[1]))\n",
    "print(result_as_img.shape)\n",
    "\n",
    "plt.imshow(x_train[0].reshape((28,28)), cmap=plt.cm.binary)\n",
    "plt.show()\n",
    "x_pos = 10\n",
    "y_pos = 5\n",
    "img3x3 = x_train[0][y_pos:y_pos+3, x_pos:x_pos+3, :].reshape((3,3))\n",
    "print(img3x3)"
   ]
  },
  {
   "cell_type": "code",
   "execution_count": null,
   "id": "GCRDmSwE4VeF",
   "metadata": {
    "colab": {
     "base_uri": "https://localhost:8080/"
    },
    "executionInfo": {
     "elapsed": 411,
     "status": "ok",
     "timestamp": 1687735851719,
     "user": {
      "displayName": "김형오",
      "userId": "12580521154359558487"
     },
     "user_tz": -540
    },
    "id": "GCRDmSwE4VeF",
    "outputId": "50592d6a-45d5-47fe-cb2a-4fb26f1e520d"
   },
   "outputs": [],
   "source": [
    "conv2d_l = model.layers[0]\n",
    "weights = conv2d_l.get_weights()\n",
    "w = weights[0]\n",
    "b = weights[1]\n",
    "print(w.shape, b.shape)\n",
    "filter_id = 0\n",
    "kernel = w[:,:,:,filter_id:filter_id+1]\n",
    "kernel = kernel.reshape(3,3)\n",
    "print(kernel)\n",
    "bias = b[0]\n",
    "print(bias)\n",
    "print(img3x3)"
   ]
  },
  {
   "cell_type": "code",
   "execution_count": null,
   "id": "D8WgG---5VZ0",
   "metadata": {
    "colab": {
     "base_uri": "https://localhost:8080/"
    },
    "executionInfo": {
     "elapsed": 2,
     "status": "ok",
     "timestamp": 1687735990534,
     "user": {
      "displayName": "김형오",
      "userId": "12580521154359558487"
     },
     "user_tz": -540
    },
    "id": "D8WgG---5VZ0",
    "outputId": "4057cec5-163d-42aa-dc99-abed7d029280"
   },
   "outputs": [],
   "source": [
    "y = (kernel*img3x3).sum()+bias\n",
    "if y < 0:\n",
    "  y = 0\n",
    "print(y)\n",
    "print(result[y_pos][x_pos])"
   ]
  },
  {
   "cell_type": "code",
   "execution_count": null,
   "id": "vTXCZlLw53VM",
   "metadata": {
    "id": "vTXCZlLw53VM"
   },
   "outputs": [],
   "source": []
  }
 ],
 "metadata": {
  "accelerator": "GPU",
  "colab": {
   "gpuType": "T4",
   "provenance": []
  },
  "kernelspec": {
   "display_name": "tf210Py310",
   "language": "python",
   "name": "tf210py310"
  },
  "language_info": {
   "codemirror_mode": {
    "name": "ipython",
    "version": 3
   },
   "file_extension": ".py",
   "mimetype": "text/x-python",
   "name": "python",
   "nbconvert_exporter": "python",
   "pygments_lexer": "ipython3",
   "version": "3.10.12"
  }
 },
 "nbformat": 4,
 "nbformat_minor": 5
}
