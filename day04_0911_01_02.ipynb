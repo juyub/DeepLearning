{
 "cells": [
  {
   "cell_type": "code",
   "execution_count": 5,
   "id": "933bee6e",
   "metadata": {},
   "outputs": [
    {
     "name": "stdout",
     "output_type": "stream",
     "text": [
      "[[3. 5. 5. 3. 1.]\n",
      " [3. 6. 7. 6. 3.]\n",
      " [2. 5. 8. 7. 4.]\n",
      " [2. 5. 7. 6. 3.]\n",
      " [2. 4. 5. 3. 1.]]\n"
     ]
    }
   ],
   "source": [
    "import numpy as np\n",
    "import cv2\n",
    "\n",
    "x = np.array([[1,1,1,0,0],\n",
    "              [0,1,1,1,0],\n",
    "              [0,0,1,1,1],\n",
    "              [0,1,1,1,0],\n",
    "              [0,1,1,0,0]], dtype=float)\n",
    "kernel = np.array([[1,1,1],\n",
    "                   [1,1,1],\n",
    "                   [1,1,1]])\n",
    "y = cv2.filter2D(x, -1, kernel, borderType=cv2.BORDER_CONSTANT)\n",
    "print(y)"
   ]
  },
  {
   "cell_type": "code",
   "execution_count": null,
   "id": "d57c4127",
   "metadata": {},
   "outputs": [],
   "source": []
  }
 ],
 "metadata": {
  "kernelspec": {
   "display_name": "tf210Py310",
   "language": "python",
   "name": "tf210py310"
  },
  "language_info": {
   "codemirror_mode": {
    "name": "ipython",
    "version": 3
   },
   "file_extension": ".py",
   "mimetype": "text/x-python",
   "name": "python",
   "nbconvert_exporter": "python",
   "pygments_lexer": "ipython3",
   "version": "3.10.12"
  }
 },
 "nbformat": 4,
 "nbformat_minor": 5
}
